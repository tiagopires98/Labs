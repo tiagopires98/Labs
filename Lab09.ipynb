{
 "cells": [
  {
   "cell_type": "markdown",
   "metadata": {},
   "source": [
    "# lab 9\n",
    "\n",
    "Suppose you have the follwoing payoff matriz of a prisoner's dilemna\n",
    "$$\\begin{bmatrix} (2,2) & (0,3) \\\\ (3,0) & (1,1)  \\end{bmatrix}$$\n",
    "\n",
    "Player 0 may play 0 or 1 and player 1 may play 0 or 1. 0 is cooperate (our peace), 1 is not cooperate (war).\n"
   ]
  },
  {
   "cell_type": "markdown",
   "metadata": {},
   "source": [
    "**1.** Create a function that receives results from each one of the player and gives as results a tuple with the results."
   ]
  },
  {
   "cell_type": "code",
   "execution_count": 1,
   "metadata": {},
   "outputs": [
    {
     "name": "stdout",
     "output_type": "stream",
     "text": [
      "Type 0 for Cooperate, and 1 for Not Cooperating 0\n",
      "Type 0 for Cooperate, and 1 for Not Cooperating 1\n"
     ]
    },
    {
     "data": {
      "text/plain": [
       "'payoff=(0,3)'"
      ]
     },
     "execution_count": 1,
     "metadata": {},
     "output_type": "execute_result"
    }
   ],
   "source": [
    "def payoff():\n",
    "    player1=input(\"Type 0 for Cooperate, and 1 for Not Cooperating \")\n",
    "    player2=input(\"Type 0 for Cooperate, and 1 for Not Cooperating \")\n",
    "    if int(player1)==0 and int(player2)==0:\n",
    "        return \"payoff=(2,2)\"\n",
    "    elif int(player1)==0 and int(player2)==1:\n",
    "        return \"payoff=(0,3)\"\n",
    "    elif int(player1)==1 and int(player2)==0:\n",
    "        return \"payoff=(3,0)\"\n",
    "    elif int(player1)==1 and int(player2)==1:\n",
    "        return \"payoff=(1,1)\"\n",
    "        \n",
    "        \n",
    "payoff()\n"
   ]
  },
  {
   "cell_type": "markdown",
   "metadata": {},
   "source": [
    "**2.** Player 0 is the user that chooses between 0 a 1. Player 1 is a computer. Result is randomly generated.  "
   ]
  },
  {
   "cell_type": "code",
   "execution_count": 7,
   "metadata": {},
   "outputs": [
    {
     "name": "stdout",
     "output_type": "stream",
     "text": [
      "Type 0 for Cooperate, and 1 for Not Cooperating 1\n"
     ]
    },
    {
     "data": {
      "text/plain": [
       "'payoff=(1,1)'"
      ]
     },
     "execution_count": 7,
     "metadata": {},
     "output_type": "execute_result"
    }
   ],
   "source": [
    "import random\n",
    "\n",
    "def payoff():\n",
    "    player1=input(\"Type 0 for Cooperate, and 1 for Not Cooperating \")\n",
    "    player2=random.randint(0,1)\n",
    "    if int(player1)==0 and int(player2)==0:\n",
    "        return \"payoff=(2,2)\"\n",
    "    elif int(player1)==0 and int(player2)==1:\n",
    "        return \"payoff=(0,3)\"\n",
    "    elif int(player1)==1 and int(player2)==0:\n",
    "        return \"payoff=(3,0)\"\n",
    "    elif int(player1)==1 and int(player2)==1:\n",
    "        return \"payoff=(1,1)\"\n",
    "    \n",
    "    \n",
    "payoff()"
   ]
  },
  {
   "cell_type": "markdown",
   "metadata": {},
   "source": [
    "**3.** Calculate the accumulated value resulting from an iterative game (10 iterations)"
   ]
  },
  {
   "cell_type": "code",
   "execution_count": 5,
   "metadata": {},
   "outputs": [
    {
     "name": "stdout",
     "output_type": "stream",
     "text": [
      "Type 0 for Cooperate, and 1 for Not Cooperating 1\n",
      "Type 0 for Cooperate, and 1 for Not Cooperating 1\n",
      "Type 0 for Cooperate, and 1 for Not Cooperating 1\n",
      "Type 0 for Cooperate, and 1 for Not Cooperating 1\n",
      "Type 0 for Cooperate, and 1 for Not Cooperating 1\n",
      "Type 0 for Cooperate, and 1 for Not Cooperating 1\n",
      "Type 0 for Cooperate, and 1 for Not Cooperating 1\n",
      "Type 0 for Cooperate, and 1 for Not Cooperating 1\n",
      "Type 0 for Cooperate, and 1 for Not Cooperating 1\n",
      "Type 0 for Cooperate, and 1 for Not Cooperating 1\n"
     ]
    },
    {
     "data": {
      "text/plain": [
       "'payoff=(1,1)'"
      ]
     },
     "execution_count": 5,
     "metadata": {},
     "output_type": "execute_result"
    }
   ],
   "source": [
    "def payoff():\n",
    "    \n",
    "    for i in range(1,6):\n",
    "        player1=input(\"Type 0 for Cooperate, and 1 for Not Cooperating \")\n",
    "        player2=input(\"Type 0 for Cooperate, and 1 for Not Cooperating \")\n",
    "    if int(player1)==0 and int(player2)==0:\n",
    "        return \"payoff=(2,2)\"\n",
    "    elif int(player1)==0 and int(player2)==1:\n",
    "        return \"payoff=(0,3)\"\n",
    "    elif int(player1)==1 and int(player2)==0:\n",
    "        return \"payoff=(3,0)\"\n",
    "    elif int(player1)==1 and int(player2)==1:\n",
    "        return \"payoff=(1,1)\"\n",
    "    print(i)\n",
    "   \n",
    "\n",
    "payoff()"
   ]
  },
  {
   "cell_type": "code",
   "execution_count": null,
   "metadata": {},
   "outputs": [],
   "source": []
  },
  {
   "cell_type": "code",
   "execution_count": null,
   "metadata": {},
   "outputs": [],
   "source": []
  },
  {
   "cell_type": "code",
   "execution_count": null,
   "metadata": {},
   "outputs": [],
   "source": []
  }
 ],
 "metadata": {
  "kernelspec": {
   "display_name": "Python 3",
   "language": "python",
   "name": "python3"
  },
  "language_info": {
   "codemirror_mode": {
    "name": "ipython",
    "version": 3
   },
   "file_extension": ".py",
   "mimetype": "text/x-python",
   "name": "python",
   "nbconvert_exporter": "python",
   "pygments_lexer": "ipython3",
   "version": "3.7.3"
  }
 },
 "nbformat": 4,
 "nbformat_minor": 2
}
