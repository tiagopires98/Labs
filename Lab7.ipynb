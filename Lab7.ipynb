{
 "cells": [
  {
   "cell_type": "markdown",
   "metadata": {},
   "source": [
    "# Lab 7\n",
    "# - Calculate NPV. The rate is a float and the cash flows and investment are in a list.\n",
    "# -Create a function called NPV to calculate NPV create a function to calcule IRR. \n",
    "# In order to calculate IRR you may aproximate the follwoing expression: rate= rate*(1-NPV(CFList, rate)/invest) create a function for payback period\n"
   ]
  },
  {
   "cell_type": "code",
   "execution_count": 1,
   "metadata": {},
   "outputs": [],
   "source": [
    "1 #Supose you have the follwoing cashflow \n",
    "CFList=[-1000, 200, 200, 300, 500] \n",
    "rate= 0.04\n",
    "NPV=0"
   ]
  },
  {
   "cell_type": "code",
   "execution_count": 2,
   "metadata": {},
   "outputs": [
    {
     "name": "stdout",
     "output_type": "stream",
     "text": [
      "71.3199380273798\n"
     ]
    }
   ],
   "source": [
    "#calcule the NPV sugestion: iterate both by index and value using enume rate\n",
    "\n",
    "for t, cf in enumerate(CFList):\n",
    "    NPV=NPV+cf/((1+rate)**t)\n",
    "    \n",
    "print(NPV)"
   ]
  },
  {
   "cell_type": "code",
   "execution_count": 21,
   "metadata": {},
   "outputs": [
    {
     "name": "stdout",
     "output_type": "stream",
     "text": [
      "71.3199380273798\n"
     ]
    }
   ],
   "source": [
    "#create a function called NPV that returns the NPV value\n",
    "\n",
    "def npv(Casflows,discountRate):\n",
    "    pv=0\n",
    "    for t,cf in enumerate(cashflows):\n",
    "        pv+=cf/((1+discountRate)**t)\n",
    "    return(pv)\n",
    "\n",
    "print(NPV)"
   ]
  },
  {
   "cell_type": "code",
   "execution_count": 20,
   "metadata": {},
   "outputs": [
    {
     "name": "stdout",
     "output_type": "stream",
     "text": [
      "0.06542842834790366\n"
     ]
    }
   ],
   "source": [
    "# create a function to calcule IRR. In order to calculate IRR you may aproximate the follwoing expression:\n",
    "# rate= rate*(1-NPV(CFList, rate)/invest) \n",
    "\n",
    "def irr(CFList):\n",
    "    rate=1\n",
    "    for i in range(1,100):\n",
    "        rate=rate*(1-npv(CFList,rate)/CFList[0])\n",
    "    return(rate)\n",
    "print(irr(CFList))"
   ]
  },
  {
   "cell_type": "code",
   "execution_count": 24,
   "metadata": {},
   "outputs": [
    {
     "name": "stdout",
     "output_type": "stream",
     "text": [
      "[-1000, -800, -600, -300, 200]\n",
      "4\n",
      "3.6\n"
     ]
    }
   ],
   "source": [
    "# create a pay back period function\n",
    "\n",
    "CCF=[]\n",
    "CCF.append(CFList[0])\n",
    "for i in range (1,len(CFList)):\n",
    "    CCF.append((CCF[i-1]+CFList[i]))\n",
    "    \n",
    "print(CCF)\n",
    "\n",
    "PBPeriod=[i for i, x in enumerate(CCF) if x>0]\n",
    "print(PBPeriod[0])\n",
    "\n",
    "PBPeriodexact=PBPeriod[0]-1+(CCF[-2]*(-1))/(CCF[-1]-CCF[-2])\n",
    "print(PBPeriodexact)"
   ]
  },
  {
   "cell_type": "code",
   "execution_count": null,
   "metadata": {},
   "outputs": [],
   "source": []
  }
 ],
 "metadata": {
  "kernelspec": {
   "display_name": "Python 3",
   "language": "python",
   "name": "python3"
  },
  "language_info": {
   "codemirror_mode": {
    "name": "ipython",
    "version": 3
   },
   "file_extension": ".py",
   "mimetype": "text/x-python",
   "name": "python",
   "nbconvert_exporter": "python",
   "pygments_lexer": "ipython3",
   "version": "3.7.3"
  }
 },
 "nbformat": 4,
 "nbformat_minor": 2
}
