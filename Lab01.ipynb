{
 "cells": [
  {
   "cell_type": "code",
   "execution_count": 4,
   "metadata": {},
   "outputs": [
    {
     "data": {
      "text/plain": [
       "int"
      ]
     },
     "execution_count": 4,
     "metadata": {},
     "output_type": "execute_result"
    }
   ],
   "source": [
    "#1 Verify if a value is integer\n",
    "\n",
    "\n",
    "n = 4\n",
    "type(n)"
   ]
  },
  {
   "cell_type": "code",
   "execution_count": 16,
   "metadata": {},
   "outputs": [
    {
     "data": {
      "text/plain": [
       "True"
      ]
     },
     "execution_count": 16,
     "metadata": {},
     "output_type": "execute_result"
    }
   ],
   "source": [
    "#2 Verify if a value is even\n",
    "a = 8\n",
    "a%2==0\n",
    "\n"
   ]
  },
  {
   "cell_type": "code",
   "execution_count": 1,
   "metadata": {},
   "outputs": [
    {
     "data": {
      "text/plain": [
       "False"
      ]
     },
     "execution_count": 1,
     "metadata": {},
     "output_type": "execute_result"
    }
   ],
   "source": [
    "#3 Insert two numbers. Is the first is bigger than the second?\n",
    "a = 5\n",
    "b = 9\n",
    "a > b\n"
   ]
  },
  {
   "cell_type": "code",
   "execution_count": null,
   "metadata": {},
   "outputs": [],
   "source": [
    "#4 Verify if one value is multiple of another\n",
    "\n"
   ]
  },
  {
   "cell_type": "code",
   "execution_count": 3,
   "metadata": {},
   "outputs": [
    {
     "name": "stdout",
     "output_type": "stream",
     "text": [
      "18.0\n"
     ]
    }
   ],
   "source": [
    "#5 Calculate the interest earn by an investor that invested a capital of 200 during 3 years with an interest rate of 3%.\n",
    "\n",
    "cap = 200\n",
    "n = 3\n",
    "i = 0.03\n",
    "\n",
    "earn = cap * n * i\n",
    "print (earn)"
   ]
  },
  {
   "cell_type": "code",
   "execution_count": 4,
   "metadata": {},
   "outputs": [
    {
     "name": "stdout",
     "output_type": "stream",
     "text": [
      "218.5454\n"
     ]
    }
   ],
   "source": [
    "#6 Capital that an investor obtained after investing a capital of 200 during 3 years with an interest rate of 3%.\n",
    "\n",
    "cap = 200\n",
    "n = 3\n",
    "i = 0.03\n",
    "\n",
    "earn = cap * (1+i)**3\n",
    "print(earn)"
   ]
  },
  {
   "cell_type": "code",
   "execution_count": 12,
   "metadata": {},
   "outputs": [
    {
     "name": "stdout",
     "output_type": "stream",
     "text": [
      "22.758306781975424\n"
     ]
    }
   ],
   "source": [
    "#7 Calculate your BMI (Body Mass Index)\n",
    "\n",
    "peso = 65\n",
    "altura = 1.69\n",
    "BMI = peso/(altura**2)\n",
    "print(BMI)"
   ]
  },
  {
   "cell_type": "code",
   "execution_count": 33,
   "metadata": {},
   "outputs": [
    {
     "name": "stdout",
     "output_type": "stream",
     "text": [
      "1.618033988749895\n"
     ]
    }
   ],
   "source": [
    "#8 Calcule the Golden ration:\n",
    "## 1. Solve the problem without using libraries\n",
    "\n",
    "gr = (1+5**(1/2))/2\n",
    "print(gr)\n"
   ]
  },
  {
   "cell_type": "code",
   "execution_count": null,
   "metadata": {},
   "outputs": [],
   "source": [
    "#8 Calcule the Golden ration:\n",
    "## 2. Use module math (import math) and function sqr (math.sqrt)\n",
    "\n"
   ]
  },
  {
   "cell_type": "code",
   "execution_count": 19,
   "metadata": {},
   "outputs": [
    {
     "name": "stdout",
     "output_type": "stream",
     "text": [
      "3139.4403015193916\n"
     ]
    }
   ],
   "source": [
    "#9 Calculete the NPV (Net present value) of an investment, considering an initial investment of 10000, the following Cashflows 2000,3000, 4000, 4000 and 5000 and a discount rate of 10%\n",
    "CF1 = 2000\n",
    "CF2 = 3000\n",
    "CF3 = 4000\n",
    "CF4 = 4000\n",
    "CF5 = 5000\n",
    "I = 10000\n",
    "r = 0.1\n",
    "\n",
    "PV1 = CF1 / (1+r)\n",
    "PV2 = CF2 / (1+r)**2\n",
    "PV3 = CF3/(1+r)**3\n",
    "PV4 = CF4 / (1+r)**4\n",
    "PV5 = CF5 / (1+r)**5\n",
    "\n",
    "NPV = -I + PV1+ PV2+ PV3+ PV4+ PV5\n",
    "print(NPV)\n",
    "\n"
   ]
  },
  {
   "cell_type": "code",
   "execution_count": 26,
   "metadata": {},
   "outputs": [
    {
     "name": "stdout",
     "output_type": "stream",
     "text": [
      "Diga-me o seu nome? João\n",
      "Quantos anos tem? 21\n",
      "João nasceu em 1998\n"
     ]
    }
   ],
   "source": [
    "#10 Ask the user to insert name and age. Calculate the the birth. Print a result saying the 'this person was born in'\n",
    "## 1. Solve the problem without using modules and libraries\n",
    "\n",
    "name = input(\"Diga-me o seu nome? \")\n",
    "idade = input(\"Quantos anos tem? \")\n",
    "\n",
    "nascimento = 2019 - int(idade)\n",
    "print(name,\"nasceu em\", nascimento)\n",
    "\n",
    "\n"
   ]
  },
  {
   "cell_type": "code",
   "execution_count": 27,
   "metadata": {},
   "outputs": [
    {
     "name": "stdout",
     "output_type": "stream",
     "text": [
      "What's your name? Cristiana\n",
      "How old are you? 21\n",
      "You were born in  1998\n"
     ]
    }
   ],
   "source": [
    "#10 Ask the user to insert name and age. Calculate the the birth. Print a result saying the 'this person was born in'\n",
    "## 2. Solve the problem using the date library from module datetime.\n",
    "\n",
    "from datetime import date\n",
    "today = date.today()\n",
    "today.year\n",
    "\n",
    "\n",
    "name = input(\"What's your name? \")\n",
    "age = input(\"How old are you? \")\n",
    "\n",
    "birth = today.year - int(age)\n",
    "\n",
    "print(\"You were born in \", birth)"
   ]
  },
  {
   "cell_type": "code",
   "execution_count": 31,
   "metadata": {},
   "outputs": [
    {
     "name": "stdout",
     "output_type": "stream",
     "text": [
      "What's your forenames? Tiago Jorge\n",
      "What's your surnames? Loureiro pires\n",
      "You completed name is:  Tiago Jorge Loureiro pires\n"
     ]
    }
   ],
   "source": [
    "#11 Ask the user to insert forenames, surnames. create a new variable (name) with your complete name.\n",
    "\n",
    "forenames = input(\"What's your forenames? \")\n",
    "surnames = input(\"What's your surnames? \")\n",
    "\n",
    "name = forenames + \" \" + surnames \n",
    "print(\"You completed name is: \", name)"
   ]
  },
  {
   "cell_type": "code",
   "execution_count": null,
   "metadata": {},
   "outputs": [],
   "source": [
    "#12 Use the follwoing method to show where in which carater appears the firs \"da\"\n",
    "\n"
   ]
  }
 ],
 "metadata": {
  "kernelspec": {
   "display_name": "Python 3",
   "language": "python",
   "name": "python3"
  },
  "language_info": {
   "codemirror_mode": {
    "name": "ipython",
    "version": 3
   },
   "file_extension": ".py",
   "mimetype": "text/x-python",
   "name": "python",
   "nbconvert_exporter": "python",
   "pygments_lexer": "ipython3",
   "version": "3.7.3"
  }
 },
 "nbformat": 4,
 "nbformat_minor": 2
}
