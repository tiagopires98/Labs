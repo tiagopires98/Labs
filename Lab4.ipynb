{
 "cells": [
  {
   "cell_type": "markdown",
   "metadata": {},
   "source": [
    "# Lab 4\n"
   ]
  },
  {
   "cell_type": "code",
   "execution_count": 30,
   "metadata": {},
   "outputs": [
    {
     "name": "stdout",
     "output_type": "stream",
     "text": [
      "[1000, 1100.0, 1210.0000000000002, 1331.0000000000005, 1464.1000000000004, 1610.5100000000004]\n"
     ]
    }
   ],
   "source": [
    "# 1) Create a list of volume of sales considering the following assumptions:\n",
    "\n",
    "# inicial valueSales =1000\n",
    "# anual growth rate = 10%\n",
    "# number of years = 6\n",
    "\n",
    "sales=[1000]\n",
    "inicialSales=1000\n",
    "g=0.1\n",
    "n=6\n",
    "\n",
    "for i in range(1,n):\n",
    "    sales.append(inicialSales*((1+g)**i))\n",
    "\n",
    "\n",
    "print(sales)\n",
    "    "
   ]
  },
  {
   "cell_type": "code",
   "execution_count": 31,
   "metadata": {},
   "outputs": [
    {
     "name": "stdout",
     "output_type": "stream",
     "text": [
      "[300.00000000000006, 330.00000000000006, 363.0000000000001, 399.3000000000002, 439.2300000000002, 483.1530000000002]\n"
     ]
    }
   ],
   "source": [
    "#2) Based on the previews list, create a list with costs knowing the profit margin:\n",
    "\n",
    "# margin =70%\n",
    "margin=0.7\n",
    "\n",
    "costList=[]\n",
    "for i in sales:\n",
    "    costList.append(i*(1-margin))\n",
    "    \n",
    "print(costList)\n"
   ]
  },
  {
   "cell_type": "code",
   "execution_count": 32,
   "metadata": {},
   "outputs": [
    {
     "name": "stdout",
     "output_type": "stream",
     "text": [
      "[700.0, 770.0, 847.0000000000001, 931.7000000000003, 1024.8700000000001, 1127.3570000000002]\n"
     ]
    }
   ],
   "source": [
    "# 3) Create a list with the profit based on the last 2 exercises (profit = sales - cost)\n",
    "\n",
    "profitList=[]\n",
    "\n",
    "\n",
    "\n",
    "for i in range(0,n):\n",
    "    profitList.append(sales[i]-costList[i])\n",
    "    \n",
    "print(profitList)"
   ]
  },
  {
   "cell_type": "code",
   "execution_count": 33,
   "metadata": {},
   "outputs": [
    {
     "data": {
      "text/plain": [
       "[200.0,\n",
       " 270.0,\n",
       " 347.0000000000001,\n",
       " 431.7000000000003,\n",
       " 524.8700000000001,\n",
       " 627.3570000000002]"
      ]
     },
     "execution_count": 33,
     "metadata": {},
     "output_type": "execute_result"
    }
   ],
   "source": [
    "# 4) Calculete a newProfit suposing 500 of fixed costs\n",
    "\n",
    "newProfit=[]\n",
    "cf=500\n",
    "for i in range(0,n):\n",
    "    newProfit.append(sales[i]-(costList[i]+cf))\n",
    "    \n",
    "newProfit"
   ]
  },
  {
   "cell_type": "markdown",
   "metadata": {},
   "source": [
    "# 5) Create a newSales list with random generated values between 200 and 2000. Corresponding to volume of sales during a certainn numberOfYears.\n",
    "\n",
    "some ints:\n",
    "\n",
    "Import module, writing import random\n",
    "use the method random.randint(a, b). This method is used to generate values between a and b ( Return a random integer N such that a <= N <= b.):"
   ]
  },
  {
   "cell_type": "code",
   "execution_count": 34,
   "metadata": {},
   "outputs": [
    {
     "name": "stdout",
     "output_type": "stream",
     "text": [
      "[987, 1891, 1183, 1599, 1351, 1028]\n"
     ]
    }
   ],
   "source": [
    "newSales=[]\n",
    "import random \n",
    "\n",
    "for i in range(0,len(newProfit)):\n",
    "    newSales.append(random.randint(200,2000))\n",
    "    \n",
    "print(newSales)"
   ]
  },
  {
   "cell_type": "code",
   "execution_count": 35,
   "metadata": {},
   "outputs": [
    {
     "name": "stdout",
     "output_type": "stream",
     "text": [
      "[187.0, 1061.0, 319.9999999999999, 699.6999999999998, 411.76999999999975, 44.84699999999975]\n"
     ]
    }
   ],
   "source": [
    "# 6) Create a new list with profits (newProfit). With margin 70% with fixed costs stated previously.\n",
    "\n",
    "newProfits=[]\n",
    "margin=0.7\n",
    "cf=500\n",
    "\n",
    "for i in range(len(newSales)):\n",
    "    newProfits.append(newSales[i]-(costList[i]+500))\n",
    "    \n",
    "print(newProfits)\n"
   ]
  },
  {
   "cell_type": "code",
   "execution_count": 39,
   "metadata": {},
   "outputs": [
    {
     "data": {
      "text/plain": [
       "100.0"
      ]
     },
     "execution_count": 39,
     "metadata": {},
     "output_type": "execute_result"
    }
   ],
   "source": [
    "# 7) What is the percentage of years having profits in the total?\n",
    "\n",
    "perc=[]\n",
    "for i in range(n):\n",
    "    if newProfits[i]>0:\n",
    "        perc.append(i)\n",
    "        \n",
    "profits=len(perc)/len(newProfits)*100\n",
    "profits"
   ]
  },
  {
   "cell_type": "code",
   "execution_count": 26,
   "metadata": {},
   "outputs": [
    {
     "data": {
      "image/png": "[encoded data removed]",
      "text/plain": [
       "<Figure size 432x288 with 1 Axes>"
      ]
     },
     "metadata": {
      "needs_background": "light"
     },
     "output_type": "display_data"
    }
   ],
   "source": [
    "# 8) Plot the sales and the newSales (generated randomly) throughout the years.\n",
    "\n",
    "import matplotlib.pyplot as plt\n",
    "plt.plot(sales)\n",
    "plt.plot(newSales)\n",
    "plt.ylabel('sales')\n",
    "plt.xlabel('years')\n",
    "plt.show()"
   ]
  },
  {
   "cell_type": "code",
   "execution_count": null,
   "metadata": {},
   "outputs": [],
   "source": []
  }
 ],
 "metadata": {
  "kernelspec": {
   "display_name": "Python 3",
   "language": "python",
   "name": "python3"
  },
  "language_info": {
   "codemirror_mode": {
    "name": "ipython",
    "version": 3
   },
   "file_extension": ".py",
   "mimetype": "text/x-python",
   "name": "python",
   "nbconvert_exporter": "python",
   "pygments_lexer": "ipython3",
   "version": "3.7.3"
  }
 },
 "nbformat": 4,
 "nbformat_minor": 2
}
