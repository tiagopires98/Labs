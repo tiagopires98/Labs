{
 "cells": [
  {
   "cell_type": "markdown",
   "metadata": {},
   "source": [
    "# Lab 5\n",
    "How to verify if a number is a possible credit card number? In order to verify the check digit is correct, verify the following steps:\n",
    "\n",
    "Supose the following number=\"5105105105105100\".\n",
    "Convert the number into a list\n",
    "Reverse the List\n",
    "Starting from the left digit, double every second digit.\n",
    "If double of a digit is more than 9, add the digits.\n",
    "Sum all the numbers except the first one multiply by 9 and remove the unit"
   ]
  },
  {
   "cell_type": "code",
   "execution_count": 29,
   "metadata": {},
   "outputs": [
    {
     "name": "stdout",
     "output_type": "stream",
     "text": [
      "['5', '1', '0', '5', '1', '0', '5', '1', '0', '5', '1', '0', '5', '1', '0', '0']\n"
     ]
    }
   ],
   "source": [
    "#Start by converting the number into a list\n",
    "number=\"5105105105105100\"\n",
    "numberList=[]\n",
    "for i in number:\n",
    "    numberList.append(i)\n",
    "    \n",
    "print(numberList)"
   ]
  },
  {
   "cell_type": "code",
   "execution_count": 40,
   "metadata": {},
   "outputs": [
    {
     "data": {
      "text/plain": [
       "[5, 1, 0, 5, 1, 0, 5, 1, 0, 5, 1, 0, 5, 1, 0, 0]"
      ]
     },
     "execution_count": 40,
     "metadata": {},
     "output_type": "execute_result"
    }
   ],
   "source": [
    "#Convert strings into integers\n",
    "newList=[]\n",
    "for i in numberList:\n",
    "    newList.append(int(i))\n",
    "    \n",
    "newList\n",
    "    \n"
   ]
  },
  {
   "cell_type": "code",
   "execution_count": 31,
   "metadata": {},
   "outputs": [
    {
     "name": "stdout",
     "output_type": "stream",
     "text": [
      "[0, 0, 0, 0, 0]\n"
     ]
    }
   ],
   "source": [
    "# Starting from the left digit, double every second digit.\n",
    "List2=[]\n",
    "for i in newList:\n",
    "    if newList[i]%2==0:\n",
    "        List2.append(newList[i]*2)\n",
    "print(List2)"
   ]
  },
  {
   "cell_type": "code",
   "execution_count": 44,
   "metadata": {},
   "outputs": [
    {
     "name": "stdout",
     "output_type": "stream",
     "text": [
      "[0, 0, 0, 0, 0]\n"
     ]
    }
   ],
   "source": [
    "# If double of a digit is more then 9, add the digits.\n",
    "\n",
    "list3=[]\n",
    "for i in newList:\n",
    "    if i*2>9:\n",
    "        list3.append(newList[i])\n",
    "        \n",
    "print(list3)"
   ]
  },
  {
   "cell_type": "code",
   "execution_count": 33,
   "metadata": {},
   "outputs": [
    {
     "name": "stdout",
     "output_type": "stream",
     "text": [
      "25\n"
     ]
    }
   ],
   "source": [
    "# Sum all the numbers except the first one\n",
    "print(sum(newList[1:]))\n"
   ]
  },
  {
   "cell_type": "code",
   "execution_count": 43,
   "metadata": {},
   "outputs": [
    {
     "name": "stdout",
     "output_type": "stream",
     "text": [
      "[44, 8, -1, 44, 8, -1, 44, 8, -1, 44, 8, -1, 44, 8, -1, -1]\n"
     ]
    }
   ],
   "source": [
    "# multiply by 9 and remove the unit\n",
    "b=[]\n",
    "for i in newList:\n",
    "    b.append(i*9-1)\n",
    "print(b)"
   ]
  },
  {
   "cell_type": "code",
   "execution_count": null,
   "metadata": {},
   "outputs": [],
   "source": []
  },
  {
   "cell_type": "code",
   "execution_count": null,
   "metadata": {},
   "outputs": [],
   "source": []
  },
  {
   "cell_type": "code",
   "execution_count": null,
   "metadata": {},
   "outputs": [],
   "source": []
  }
 ],
 "metadata": {
  "kernelspec": {
   "display_name": "Python 3",
   "language": "python",
   "name": "python3"
  },
  "language_info": {
   "codemirror_mode": {
    "name": "ipython",
    "version": 3
   },
   "file_extension": ".py",
   "mimetype": "text/x-python",
   "name": "python",
   "nbconvert_exporter": "python",
   "pygments_lexer": "ipython3",
   "version": "3.7.3"
  }
 },
 "nbformat": 4,
 "nbformat_minor": 2
}
